{
 "cells": [
  {
   "cell_type": "code",
   "execution_count": 1,
   "metadata": {},
   "outputs": [
    {
     "name": "stdout",
     "output_type": "stream",
     "text": [
      "Hello, python\n"
     ]
    }
   ],
   "source": [
    "print(\"Hello, python\")"
   ]
  },
  {
   "cell_type": "code",
   "execution_count": 1,
   "metadata": {},
   "outputs": [
    {
     "name": "stdout",
     "output_type": "stream",
     "text": [
      "10 -20\n"
     ]
    }
   ],
   "source": [
    "num1=10\n",
    "num2=-20\n",
    "print(num1, num2)"
   ]
  },
  {
   "cell_type": "code",
   "execution_count": 2,
   "metadata": {},
   "outputs": [
    {
     "name": "stdout",
     "output_type": "stream",
     "text": [
      "3.14 -2.718\n"
     ]
    }
   ],
   "source": [
    "num1=3.14\n",
    "num2=-2.718\n",
    "print(num1,num2)"
   ]
  },
  {
   "cell_type": "code",
   "execution_count": 3,
   "metadata": {},
   "outputs": [
    {
     "name": "stdout",
     "output_type": "stream",
     "text": [
      "Hello Python\n"
     ]
    }
   ],
   "source": [
    "str1='Hello'\n",
    "str2='Python'\n",
    "print(str1,str2)"
   ]
  },
  {
   "cell_type": "code",
   "execution_count": 4,
   "metadata": {},
   "outputs": [
    {
     "name": "stdout",
     "output_type": "stream",
     "text": [
      "P\n",
      "n\n"
     ]
    }
   ],
   "source": [
    "text=\"Python\"\n",
    "print(text[0])\n",
    "print(text[-1])"
   ]
  },
  {
   "cell_type": "code",
   "execution_count": 5,
   "metadata": {},
   "outputs": [
    {
     "name": "stdout",
     "output_type": "stream",
     "text": [
      "Pyt\n",
      "Pto\n"
     ]
    }
   ],
   "source": [
    "text=\"Python\"\n",
    "print(text[0:3])\n",
    "print(text[::2])"
   ]
  },
  {
   "cell_type": "code",
   "execution_count": 7,
   "metadata": {},
   "outputs": [
    {
     "name": "stdout",
     "output_type": "stream",
     "text": [
      "['Python', 'is', 'fun']\n",
      "Python is fun\n"
     ]
    }
   ],
   "source": [
    "text=\"Python is fun\"\n",
    "words=text.split()\n",
    "print(words)\n",
    "joined_text=' '.join(words)\n",
    "print(joined_text)"
   ]
  },
  {
   "cell_type": "code",
   "execution_count": 9,
   "metadata": {},
   "outputs": [
    {
     "name": "stdout",
     "output_type": "stream",
     "text": [
      "My name is Alice and I am 30 years old\n"
     ]
    }
   ],
   "source": [
    "name=\"Alice\"\n",
    "age=30\n",
    "print(f\"My name is {name} and I am {age} years old\")"
   ]
  },
  {
   "cell_type": "code",
   "execution_count": 12,
   "metadata": {},
   "outputs": [
    {
     "name": "stdout",
     "output_type": "stream",
     "text": [
      "Hello\n",
      "Python\n",
      "탭을\t사용한\t예시\n",
      "백슬래시는 이렇게 \\ 출력\n"
     ]
    }
   ],
   "source": [
    "print(\"Hello\\nPython\")\n",
    "print(\"탭을\\t사용한\\t예시\")\n",
    "print(\"백슬래시는 이렇게 \\\\ 출력\")"
   ]
  },
  {
   "cell_type": "code",
   "execution_count": 13,
   "metadata": {},
   "outputs": [
    {
     "name": "stdout",
     "output_type": "stream",
     "text": [
      "False\n",
      "True\n",
      "False\n"
     ]
    }
   ],
   "source": [
    "a=True\n",
    "b=False\n",
    "print(a and b)\n",
    "print(a or b)\n",
    "print(not a)"
   ]
  },
  {
   "cell_type": "code",
   "execution_count": 14,
   "metadata": {},
   "outputs": [
    {
     "name": "stdout",
     "output_type": "stream",
     "text": [
      "접근 거부\n"
     ]
    }
   ],
   "source": [
    "is_authenticated=True\n",
    "has_permission=False\n",
    "if is_authenticated and has_permission:\n",
    "    print(\"접근 허용\")\n",
    "else:\n",
    "    print(\"접근 거부\")"
   ]
  },
  {
   "cell_type": "code",
   "execution_count": 16,
   "metadata": {},
   "outputs": [
    {
     "name": "stdout",
     "output_type": "stream",
     "text": [
      "apple\n",
      "['apple', 'banana']\n"
     ]
    }
   ],
   "source": [
    "empty_list=[]\n",
    "numbers=[1,2,3,4,5]\n",
    "fruits=[\"apple\", \"banana\", \"cherry\"]\n",
    "print(fruits[0])\n",
    "print(fruits[0:2])"
   ]
  },
  {
   "cell_type": "code",
   "execution_count": 32,
   "metadata": {},
   "outputs": [
    {
     "name": "stdout",
     "output_type": "stream",
     "text": [
      "[3, 1, 4, 1, 5, 9]\n",
      "[1, 1, 3, 4, 5, 9]\n",
      "[1, 3, 4, 5, 9]\n",
      "[1, 3, 5, 9]\n",
      "4\n",
      "[9, 5, 3, 1]\n",
      "1\n",
      "[9, 5, 3, 1]\n",
      "[9, 5, 3, 1, 6, 7, 8]\n",
      "[9, 5, 3, 1, 6, 7, 8, 10, 11, 12]\n"
     ]
    }
   ],
   "source": [
    "numbers=[3,1,4,1,5]\n",
    "\n",
    "# 요소 추가(append)\n",
    "numbers.append(9)\n",
    "print(numbers)\n",
    "\n",
    "# 요소 정렬(sort)\n",
    "numbers.sort()\n",
    "print(numbers)\n",
    "\n",
    "#요소 제거(remove)\n",
    "numbers.remove(1)\n",
    "print(numbers)\n",
    "\n",
    "# 특정 위치의 요소 추출 및 삭제(pop)\n",
    "removed_item=numbers.pop(2)\n",
    "print(numbers)\n",
    "print(removed_item)\n",
    "\n",
    "# 리스트 뒤집기(reverse)\n",
    "numbers.reverse()\n",
    "print(numbers)\n",
    "\n",
    "# 리스트 요소 개수 세기(count)\n",
    "count=numbers.count(5)\n",
    "print(count)\n",
    "\n",
    "# 리스트 복사 (copy)\n",
    "new_numbers=numbers.copy()\n",
    "print(new_numbers)\n",
    "\n",
    "# 리스트 확장(extend)\n",
    "numbers.extend([6,7,8])\n",
    "print(numbers)\n",
    "\n",
    "# 리스트 합치기(concatenate)\n",
    "another_list=[10,11,12]\n",
    "combined_list=numbers+another_list\n",
    "print(combined_list)"
   ]
  },
  {
   "cell_type": "code",
   "execution_count": 36,
   "metadata": {},
   "outputs": [
    {
     "name": "stdout",
     "output_type": "stream",
     "text": [
      "green\n",
      "('red', 'green')\n"
     ]
    }
   ],
   "source": [
    "colors=(\"red\", \"green\",\"blue\")\n",
    "print(colors[1])\n",
    "print(colors[0:2])"
   ]
  },
  {
   "cell_type": "code",
   "execution_count": 38,
   "metadata": {},
   "outputs": [
    {
     "name": "stdout",
     "output_type": "stream",
     "text": [
      "2\n",
      "2\n"
     ]
    }
   ],
   "source": [
    "# 특정 값의 개수 세기(count)\n",
    "numbers=(1,2,3,2,4)\n",
    "print(numbers.count(2))\n",
    "print(numbers.index(3))"
   ]
  },
  {
   "cell_type": "code",
   "execution_count": 47,
   "metadata": {},
   "outputs": [
    {
     "name": "stdout",
     "output_type": "stream",
     "text": [
      "Bob\n",
      "31\n",
      "Bob이 사는곳은 New York\n"
     ]
    }
   ],
   "source": [
    "# 빈 딕셔너리 생성\n",
    "empty_tuple={}\n",
    "person={\"name\":\"Bob\", \"age\":30, \"city\":\"New York\"}\n",
    "print(person[\"name\"])\n",
    "person[\"age\"]=31\n",
    "print(person[\"age\"])\n",
    "print(person[\"name\"]+\"이 사는곳은 \"+person[\"city\"])"
   ]
  },
  {
   "cell_type": "code",
   "execution_count": 51,
   "metadata": {},
   "outputs": [
    {
     "name": "stdout",
     "output_type": "stream",
     "text": [
      "Charlie\n",
      "dict_keys(['name', 'age'])\n",
      "dict_values(['Charlie', 22])\n",
      "dict_items([('name', 'Charlie'), ('age', 22)])\n"
     ]
    }
   ],
   "source": [
    "# 딕셔너리 활용예제\n",
    "# 키에 대응하는 값 반환 (get)\n",
    "info={\"name\":\"Charlie\", \"age\":22}\n",
    "print(info.get(\"name\"))\n",
    "\n",
    "# 모든 키를 반환(keys)\n",
    "print(info.keys())\n",
    "\n",
    "# 모든 값을 반환(values) \n",
    "print(info.values())\n",
    "\n",
    "# 키-값 쌍을 튜플 형태로 반환(items)\n",
    "print(info.items())"
   ]
  },
  {
   "cell_type": "code",
   "execution_count": 52,
   "metadata": {},
   "outputs": [
    {
     "data": {
      "text/plain": [
       "'*****oxox'"
      ]
     },
     "execution_count": 52,
     "metadata": {},
     "output_type": "execute_result"
    }
   ],
   "source": [
    "# replace 함수 ('기본값', '변경값', '변경할 횟수')\n",
    "a='oxoxoxoxoxoxox'\n",
    "a.replace('ox','*',5)"
   ]
  },
  {
   "cell_type": "code",
   "execution_count": 53,
   "metadata": {},
   "outputs": [
    {
     "name": "stdout",
     "output_type": "stream",
     "text": [
      "홀수입니다.\n"
     ]
    }
   ],
   "source": [
    "# 조건이 참일때와 거짓일 때 각각 다른 코드로 실행\n",
    "number=5\n",
    "if number % 2==0:\n",
    "    print(\"짝수입니다.\")\n",
    "else:\n",
    "    print(\"홀수입니다.\")"
   ]
  },
  {
   "cell_type": "code",
   "execution_count": 54,
   "metadata": {},
   "outputs": [
    {
     "name": "stdout",
     "output_type": "stream",
     "text": [
      "B학점\n"
     ]
    }
   ],
   "source": [
    "# 여러 조건 중 하나만 선택하여 실행\n",
    "score=85\n",
    "if score>=90:\n",
    "    print(\"A학점\")\n",
    "elif score>=80:\n",
    "    print(\"B학점\")\n",
    "else:\n",
    "    print(\"C학점\")"
   ]
  },
  {
   "cell_type": "code",
   "execution_count": 57,
   "metadata": {},
   "outputs": [
    {
     "name": "stdout",
     "output_type": "stream",
     "text": [
      "조건을 만족하지 않습니다.\n"
     ]
    }
   ],
   "source": [
    "# 조건식 간단화 : 복잡한 조건은 논리 연산자(and, or, not)를 사용\n",
    "# 중첩 피하기 : 여러 조건은  elif로 나누어 가독성 향상\n",
    "# 디버깅 편리 : print()문으로 조건 결과 확인\n",
    "\n",
    "x,y=10,20\n",
    "if x < 5 or y > 30:\n",
    "    print(\"조건을 만족합니다\")\n",
    "else:\n",
    "    print(\"조건을 만족하지 않습니다.\")"
   ]
  },
  {
   "cell_type": "code",
   "execution_count": 58,
   "metadata": {},
   "outputs": [
    {
     "name": "stdout",
     "output_type": "stream",
     "text": [
      "2\n",
      "4\n",
      "6\n",
      "8\n",
      "10\n"
     ]
    }
   ],
   "source": [
    "# 기본 for문\n",
    "# 반복 대상의 요소를 하나씩 순회하며 실행\n",
    "\n",
    "numbers=[1,2,3,4,5]\n",
    "for num in numbers:\n",
    "    print(num*2)"
   ]
  },
  {
   "cell_type": "code",
   "execution_count": 59,
   "metadata": {},
   "outputs": [
    {
     "name": "stdout",
     "output_type": "stream",
     "text": [
      "현재 값:1\n",
      "현재 값:2\n",
      "현재 값:3\n",
      "현재 값:4\n",
      "현재 값:5\n"
     ]
    }
   ],
   "source": [
    "# range() 함수로 반복 횟수를 지정\n",
    "# range(시작값, 종료값, 증가값)\n",
    "\n",
    "for i in range(1,6):\n",
    "    print(f\"현재 값:{i}\")"
   ]
  },
  {
   "cell_type": "code",
   "execution_count": 60,
   "metadata": {},
   "outputs": [
    {
     "name": "stdout",
     "output_type": "stream",
     "text": [
      "i:1, j:1\n",
      "i:1, j:2\n",
      "i:2, j:1\n",
      "i:2, j:2\n",
      "i:3, j:1\n",
      "i:3, j:2\n"
     ]
    }
   ],
   "source": [
    "# 중첩 for문\n",
    "# 반복문 안에 또 다른 반복문이 포함\n",
    "# 안쪽에 있는 for문이 완전히 실행된 후에 바깥쪽 for문이 실행되면서 반복되는 구조\n",
    "\n",
    "for i in range(1,4):\n",
    "    for j in range(1,3):\n",
    "        print(f\"i:{i}, j:{j}\")"
   ]
  },
  {
   "cell_type": "code",
   "execution_count": 62,
   "metadata": {},
   "outputs": [
    {
     "name": "stdout",
     "output_type": "stream",
     "text": [
      "인덱스 1:A\n",
      "인덱스 2:B\n",
      "인덱스 3:C\n"
     ]
    }
   ],
   "source": [
    "# enumerate() 함께 사용 시\n",
    "# enumerate() 함수는 시퀀스(리스트, 튜플, 문자열 등)를 순회하면서 각 요소의 인덱스와 값을 튜플형태로 함께 반환\n",
    "# 반복문을 돌면서 현재 어떤 인덱스의 값을 처리하고 있는 지 알고 싶을 때 용이\n",
    "\n",
    "items = [\"A\", \"B\", \"C\"]\n",
    "for idx, item in enumerate(items):\n",
    "    print(f\"인덱스 {idx+1}:{item}\")"
   ]
  },
  {
   "cell_type": "code",
   "execution_count": 4,
   "metadata": {},
   "outputs": [],
   "source": [
    "# 종료 조건 없이 True를 조건식으로 설정\n",
    "# 반드시 break문으로 종료 조건 설정\n",
    "\n",
    "while True:\n",
    "    user_input=input(\"종료하려면 'exit' 입력: \")\n",
    "    if user_input==\"exit\":\n",
    "        break"
   ]
  },
  {
   "cell_type": "code",
   "execution_count": 3,
   "metadata": {},
   "outputs": [
    {
     "name": "stdout",
     "output_type": "stream",
     "text": [
      "Count:0\n",
      "Count:1\n",
      "Count:2\n",
      "Count:3\n",
      "Count:4\n"
     ]
    }
   ],
   "source": [
    "# while문\n",
    "# 조건이 참인 동안 특정 코드를 반복 실행하는 반복문으로 반복 횟수를 사전에 알 수 없을 때 주로 사용\n",
    "# 조건식의 값이 변하지 않으면 무한 루프가 발생할 수 있음\n",
    "\n",
    "count=0\n",
    "while count<5:\n",
    "    print(f\"Count:{count}\")\n",
    "    count+=1"
   ]
  },
  {
   "cell_type": "code",
   "execution_count": 5,
   "metadata": {},
   "outputs": [
    {
     "name": "stdout",
     "output_type": "stream",
     "text": [
      "5\n",
      "4\n",
      "3\n",
      "2\n",
      "1\n",
      "반복 종료\n"
     ]
    }
   ],
   "source": [
    "# 조건과 else 사용\n",
    "# 조건이 False로 바뀌면 else 블록 실행\n",
    "\n",
    "x=5\n",
    "while x>0:\n",
    "    print(x)\n",
    "    x-=1\n",
    "else:\n",
    "    print(\"반복 종료\")"
   ]
  },
  {
   "cell_type": "code",
   "execution_count": 7,
   "metadata": {},
   "outputs": [
    {
     "name": "stdout",
     "output_type": "stream",
     "text": [
      "1\n",
      "3\n",
      "5\n",
      "7\n"
     ]
    }
   ],
   "source": [
    "# continue : continue 아래의 코드는 실행되지 않고, 반복문의 조건 검사로 다시 돌아감\n",
    "# break : break를 만나면 반복문을 벗어나게 되고 반복문 종료\n",
    "\n",
    "n=0\n",
    "while n <10:\n",
    "    n+=1\n",
    "    if n%2==0:\n",
    "        continue\n",
    "    print(n)\n",
    "    if n==7:\n",
    "        break"
   ]
  }
 ],
 "metadata": {
  "kernelspec": {
   "display_name": ".venv",
   "language": "python",
   "name": "python3"
  },
  "language_info": {
   "codemirror_mode": {
    "name": "ipython",
    "version": 3
   },
   "file_extension": ".py",
   "mimetype": "text/x-python",
   "name": "python",
   "nbconvert_exporter": "python",
   "pygments_lexer": "ipython3",
   "version": "3.12.8"
  }
 },
 "nbformat": 4,
 "nbformat_minor": 2
}
