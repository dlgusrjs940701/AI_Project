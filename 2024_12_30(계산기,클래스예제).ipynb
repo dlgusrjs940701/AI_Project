{
 "cells": [
  {
   "cell_type": "code",
   "execution_count": 2,
   "metadata": {},
   "outputs": [],
   "source": [
    "# with문 방식\n",
    "# 예시\n",
    "with open('dataset/human.txt','w', encoding='utf-8')as f:\n",
    "    f.write('안녕하세요. 반갑습니다. \\n')\n",
    "    f.write('파이선 with문 예시입니다. \\n')"
   ]
  },
  {
   "cell_type": "code",
   "execution_count": 1,
   "metadata": {},
   "outputs": [
    {
     "name": "stderr",
     "output_type": "stream",
     "text": [
      "c:\\aiproject2\\.venv\\lib\\site-packages\\tqdm\\auto.py:21: TqdmWarning: IProgress not found. Please update jupyter and ipywidgets. See https://ipywidgets.readthedocs.io/en/stable/user_install.html\n",
      "  from .autonotebook import tqdm as notebook_tqdm\n",
      "c:\\aiproject2\\.venv\\lib\\site-packages\\gradio\\blocks.py:1049: UserWarning: Cannot load compact. Caught Exception: 404 Client Error: Not Found for url: https://huggingface.co/api/spaces/compact (Request ID: Root=1-677355e6-28a4225b30b924623bdd66ad;cd26f9e4-bb8b-4457-bead-fb1238facf1a)\n",
      "\n",
      "Sorry, we can't find the page you are looking for.\n",
      "  warnings.warn(f\"Cannot load {theme}. Caught Exception: {str(e)}\")\n"
     ]
    },
    {
     "name": "stdout",
     "output_type": "stream",
     "text": [
      "* Running on local URL:  http://127.0.0.1:7860\n",
      "\n",
      "To create a public link, set `share=True` in `launch()`.\n"
     ]
    },
    {
     "data": {
      "text/html": [
       "<div><iframe src=\"http://127.0.0.1:7860/\" width=\"100%\" height=\"500\" allow=\"autoplay; camera; microphone; clipboard-read; clipboard-write;\" frameborder=\"0\" allowfullscreen></iframe></div>"
      ],
      "text/plain": [
       "<IPython.core.display.HTML object>"
      ]
     },
     "metadata": {},
     "output_type": "display_data"
    },
    {
     "data": {
      "text/plain": []
     },
     "execution_count": 1,
     "metadata": {},
     "output_type": "execute_result"
    }
   ],
   "source": [
    "import gradio as gr\n",
    "\n",
    "# 계산 함수 정의\n",
    "def calculator(숫자1, 숫자2, 수식):\n",
    "    if 수식 == \"Add\":\n",
    "        return round(숫자1 + 숫자2, 2)\n",
    "    elif 수식 == \"Subtract\":\n",
    "        return round(숫자1 - 숫자2, 2)\n",
    "    elif 수식 == \"Multiply\":\n",
    "        return round(숫자1 * 숫자2, 2)\n",
    "    elif 수식 == \"Divide\":\n",
    "        if 숫자2 != 0:\n",
    "            return round(숫자1 / 숫자2, 2)\n",
    "        else:\n",
    "            return \"Error! Division by zero\"\n",
    "    else:\n",
    "        return \"Invalid 수식\"\n",
    "\n",
    "# Gradio 인터페이스 설정\n",
    "iface = gr.Interface(\n",
    "    fn=calculator,\n",
    "    inputs=[\n",
    "        gr.Slider(minimum=-1000, maximum=1000, step=0.1, label=\"숫자1\", value=0),\n",
    "        gr.Slider(minimum=-1000, maximum=1000, step=0.1, label=\"숫자2\", value=0),\n",
    "        gr.Dropdown(choices=[\"덧셈\", \"뺄셈\", \"곱셈\", \"나누기\"], label=\"수식\"),\n",
    "    ],\n",
    "    outputs=\"text\",\n",
    "    live=True,  # 실시간 결과 표시\n",
    "    theme=\"compact\",  # 세련된 미니멀한 테마\n",
    "    title=\"🔢 TrendiCalc - 트렌디한 계산기\",  # 타이틀\n",
    "    description=\"두 숫자와 연산을 선택하여 실시간 계산 결과를 확인하세요! 💡\",  # 설명\n",
    "    css=\"\"\"\n",
    "        .gradio-container {background-color: #f4f7fa; border-radius: 10px; padding: 30px; font-family: Arial, sans-serif;}\n",
    "        .gradio-input {font-size: 18px;}\n",
    "        .gradio-button {background-color: #4CAF50; color: white; font-size: 18px;}\n",
    "        .gradio-output {font-size: 20px; font-weight: bold; color: #333;}\n",
    "        .gradio-title {font-size: 24px; font-weight: bold; color: #4CAF50;}\n",
    "        .gradio-description {font-size: 16px; color: #777;}\n",
    "    \"\"\"\n",
    ")\n",
    "\n",
    "# 인터페이스 실행\n",
    "iface.launch()\n"
   ]
  },
  {
   "cell_type": "code",
   "execution_count": 10,
   "metadata": {},
   "outputs": [
    {
     "name": "stdout",
     "output_type": "stream",
     "text": [
      "멍멍이가 짖습니다\n"
     ]
    }
   ],
   "source": [
    "# 클래스 예시\n",
    "\n",
    "class Dog:\n",
    "    # 초기화 메서드(생성자)\n",
    "    def __init__(self, name):\n",
    "        self.name=name # 인스턴스 변수\n",
    "        \n",
    "    def bark(self):\n",
    "        print(f\"{self.name}가 짖습니다\")\n",
    "        \n",
    "my_dog = Dog(\"멍멍이\")\n",
    "my_dog.bark() # 출력"
   ]
  },
  {
   "cell_type": "code",
   "execution_count": 13,
   "metadata": {},
   "outputs": [
    {
     "name": "stdout",
     "output_type": "stream",
     "text": [
      "나비\n",
      "나비가 야옹하고 웁니다.\n",
      "호랑나비\n",
      "호랑나비가 야옹하고 웁니다.\n"
     ]
    }
   ],
   "source": [
    "# 클래스 예제(상속)\n",
    "class Animal:\n",
    "    def __init__(self, name):\n",
    "        self.name = name\n",
    "    def speak(self):\n",
    "        pass\n",
    "class Cat(Animal): # Animal 클래스 상속\n",
    "    def speak(self):\n",
    "        return f\"{self.name}가 야옹하고 웁니다.\"\n",
    "# 객체 생성 및 사용\n",
    "cat1 = Cat(\"나비\") # Cat 클래스의 인스턴스(객체) 생성\n",
    "print(cat1.name) # 출력 : 나비\n",
    "print(cat1.speak()) # 출력 : 나비가 야옹하고 웁니다.\n",
    "cat2 = Cat(\"호랑나비\") # 다른 인스턴스 생성\n",
    "print(cat2.name) # 출력 : 미야\n",
    "print(cat2.speak()) # 출력 : 미야가 야옹하고 웁니다.    "
   ]
  },
  {
   "cell_type": "code",
   "execution_count": 15,
   "metadata": {},
   "outputs": [
    {
     "name": "stdout",
     "output_type": "stream",
     "text": [
      "1000\n"
     ]
    }
   ],
   "source": [
    "# 클래스 예제(캡슐화)\n",
    "\n",
    "class BankAccount:\n",
    "    def __init__(self):\n",
    "        self.__balance=0 # 비공개변수\n",
    "        \n",
    "    def deposit(self, amount):\n",
    "        if amount > 0:\n",
    "            self.__balance += amount\n",
    "            \n",
    "    def get_balance(self):\n",
    "        return self.__balance\n",
    "    \n",
    "# 실행예제\n",
    "account = BankAccount()\n",
    "account.deposit(1000)\n",
    "print(account.get_balance())"
   ]
  },
  {
   "cell_type": "code",
   "execution_count": 1,
   "metadata": {},
   "outputs": [
    {
     "name": "stdout",
     "output_type": "stream",
     "text": [
      "파이썬 고등학교\n",
      "파이썬 고등학교\n",
      "파이썬 고등학교\n",
      "2\n"
     ]
    }
   ],
   "source": [
    "# 클래스 변수와 인스턴스 변수 예제\n",
    "class Student:\n",
    "    school_name = \"파이썬 고등학교\" # 클래스 변수\n",
    "    student_count = 0 # 클래스 변수\n",
    "    def __init__(self, name):\n",
    "        self.name = name # 인스턴스 변수\n",
    "        Student.student_count += 1\n",
    "# 실행 예제\n",
    "student1 = Student(\"김철수\")\n",
    "student2 = Student(\"이영희\")\n",
    "print(Student.school_name) # 출력: 파이썬 고등학교\n",
    "print(student1.school_name) # 출력: 파이썬 고등학교\n",
    "print(student2.school_name) # 출력: 파이썬 고등학교\n",
    "print(Student.student_count) # 출력: 2"
   ]
  },
  {
   "cell_type": "code",
   "execution_count": 2,
   "metadata": {},
   "outputs": [
    {
     "name": "stdout",
     "output_type": "stream",
     "text": [
      "계산기를 초기화합니다.\n"
     ]
    },
    {
     "ename": "AttributeError",
     "evalue": "'Calculator' object has no attribute 'add'",
     "output_type": "error",
     "traceback": [
      "\u001b[1;31m---------------------------------------------------------------------------\u001b[0m",
      "\u001b[1;31mAttributeError\u001b[0m                            Traceback (most recent call last)",
      "Cell \u001b[1;32mIn[2], line 20\u001b[0m\n\u001b[0;32m     18\u001b[0m \u001b[38;5;66;03m# 객체 생성 및 메서드 호출\u001b[39;00m\n\u001b[0;32m     19\u001b[0m calc \u001b[38;5;241m=\u001b[39m Calculator()  \u001b[38;5;66;03m# 출력 : 계산기를 초기화합니다.\u001b[39;00m\n\u001b[1;32m---> 20\u001b[0m \u001b[38;5;28mprint\u001b[39m(\u001b[38;5;124m\"\u001b[39m\u001b[38;5;124m덧셈 결과:\u001b[39m\u001b[38;5;124m\"\u001b[39m, \u001b[43mcalc\u001b[49m\u001b[38;5;241;43m.\u001b[39;49m\u001b[43madd\u001b[49m(\u001b[38;5;241m10\u001b[39m, \u001b[38;5;241m20\u001b[39m))  \u001b[38;5;66;03m# 출력 : 덧셈결과 : 30\u001b[39;00m\n\u001b[0;32m     21\u001b[0m \u001b[38;5;28mprint\u001b[39m(\u001b[38;5;124m\"\u001b[39m\u001b[38;5;124m곱셈 결과:\u001b[39m\u001b[38;5;124m\"\u001b[39m, calc\u001b[38;5;241m.\u001b[39mmultiply(\u001b[38;5;241m10\u001b[39m, \u001b[38;5;241m20\u001b[39m))  \u001b[38;5;66;03m# 출력: 곱셈 결과 : 200\u001b[39;00m\n",
      "\u001b[1;31mAttributeError\u001b[0m: 'Calculator' object has no attribute 'add'"
     ]
    }
   ],
   "source": [
    "# 계산기 클래스 예제\n",
    "class Calculator:\n",
    "    # 초기화 메서드: 아무 상태 없이 계산만 수행\n",
    "    def __init__(self):\n",
    "        print(\"계산기를 초기화합니다.\")\n",
    "\n",
    "\n",
    "# 두 숫자를 더하는 메서드\n",
    "def add(self, a, b):\n",
    "    return a + b\n",
    "\n",
    "\n",
    "# 두 숫자를 곱하는 메서드\n",
    "def multiply(self, a, b):\n",
    "    return a * b\n",
    "\n",
    "\n",
    "# 객체 생성 및 메서드 호출\n",
    "calc = Calculator()  # 출력 : 계산기를 초기화합니다.\n",
    "print(\"덧셈 결과:\", calc.add(10, 20))  # 출력 : 덧셈결과 : 30\n",
    "print(\"곱셈 결과:\", calc.multiply(10, 20))  # 출력: 곱셈 결과 : 200"
   ]
  },
  {
   "cell_type": "code",
   "execution_count": 4,
   "metadata": {},
   "outputs": [
    {
     "name": "stdout",
     "output_type": "stream",
     "text": [
      "이름: 홍길동, 나이: 16\n",
      "이름: 김철수, 나이: 18\n"
     ]
    }
   ],
   "source": [
    "# 학생정보 관리 클래스 예제\n",
    "class Student:\n",
    "    # 생성자 : 학생 이름과 나이를 초기화\n",
    "    def __init__(self, name, age):\n",
    "        self.name = name\n",
    "        self.age = age\n",
    "\n",
    "    # 학생 정보 출력 메서드\n",
    "    def display_info(self):\n",
    "        print(f\"이름: {self.name}, 나이: {self.age}\")\n",
    "\n",
    "\n",
    "# 객체 새성 및 메서드 호출\n",
    "student1 = Student(\"홍길동\", 16)\n",
    "student2 = Student(\"김철수\", 18)\n",
    "student1.display_info()  # 출력: 이름: 홍길동, 나이: 16\n",
    "student2.display_info()  # 출력: 이름: 김철수, 나이: 18"
   ]
  },
  {
   "cell_type": "code",
   "execution_count": 5,
   "metadata": {},
   "outputs": [
    {
     "name": "stdout",
     "output_type": "stream",
     "text": [
      "어벤져스 영화의 할인된 가격: 10000원\n"
     ]
    }
   ],
   "source": [
    "# 영화 티켓 할인 관리 클래스 예제\n",
    "class MovieTicket:\n",
    "\n",
    "    # 생성자 : 영화 제목과 기본 티켓 가격 초기화\n",
    "    def __init__(self, title, price):\n",
    "        self.title = title\n",
    "        self.price = price\n",
    "\n",
    "    # 할인 적용 메서드\n",
    "    def apply_discount(self, discount):\n",
    "        self.price -= discount\n",
    "        print(f\"{self.title} 영화의 할인된 가격: {self.price}원\")\n",
    "\n",
    "\n",
    "# 객체 생성 및 메서드 호출\n",
    "ticket = MovieTicket(\"어벤져스\", 12000)\n",
    "ticket.apply_discount(2000)  # 출력 : 어벤져스 영화 의 할인된 가격 : 10000원"
   ]
  },
  {
   "cell_type": "code",
   "execution_count": 1,
   "metadata": {},
   "outputs": [
    {
     "name": "stdout",
     "output_type": "stream",
     "text": [
      "5000원이 입금되었습니다. 현재 잔액: 105000원\n",
      "2000원이 출금되었습니다. 현재 잔액: 103000원\n",
      "잔액이 부족합니다.\n"
     ]
    }
   ],
   "source": [
    "# 간단한 은행 계좌 클래스\n",
    "class BankAccount:\n",
    "    def __init__(self, owner, balance=0):\n",
    "        self.owner = owner\n",
    "        self.balance = balance\n",
    "\n",
    "    # 입금\n",
    "    def deposit(self, amount):\n",
    "        self.balance += amount\n",
    "        print(f\"{amount}원이 입금되었습니다. 현재 잔액: {self.balance}원\")\n",
    "\n",
    "    # 출금\n",
    "    def withdraw(self, amount):\n",
    "        if amount > self.balance:\n",
    "            print(\"잔액이 부족합니다.\")\n",
    "        else:\n",
    "            self.balance -= amount\n",
    "            print(f\"{amount}원이 출금되었습니다. 현재 잔액: {self.balance}원\")\n",
    "\n",
    "\n",
    "# 사용 예시\n",
    "account = BankAccount(\"홍길동\", 100000)\n",
    "account.deposit(5000)  # 출력 : 5000원이 입금되었습니다. 현재 잔액: 15000원\n",
    "account.withdraw(2000)  # 출력 : 20000원이 출금되었습니다. 현재 잔액: 13000원\n",
    "account.withdraw(1000000)  # 출력 : 잔액이 부족합니다."
   ]
  }
 ],
 "metadata": {
  "kernelspec": {
   "display_name": ".venv",
   "language": "python",
   "name": "python3"
  },
  "language_info": {
   "codemirror_mode": {
    "name": "ipython",
    "version": 3
   },
   "file_extension": ".py",
   "mimetype": "text/x-python",
   "name": "python",
   "nbconvert_exporter": "python",
   "pygments_lexer": "ipython3",
   "version": "3.10.6"
  }
 },
 "nbformat": 4,
 "nbformat_minor": 2
}
