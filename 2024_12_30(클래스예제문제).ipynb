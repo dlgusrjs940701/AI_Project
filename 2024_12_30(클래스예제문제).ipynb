{
 "cells": [
  {
   "cell_type": "code",
   "execution_count": 1,
   "metadata": {},
   "outputs": [
    {
     "ename": "ModuleNotFoundError",
     "evalue": "No module named 'pandas'",
     "output_type": "error",
     "traceback": [
      "\u001b[1;31m---------------------------------------------------------------------------\u001b[0m",
      "\u001b[1;31mModuleNotFoundError\u001b[0m                       Traceback (most recent call last)",
      "Cell \u001b[1;32mIn[1], line 6\u001b[0m\n\u001b[0;32m      1\u001b[0m \u001b[38;5;66;03m# 문제1) 학생 클래스 만들기\u001b[39;00m\n\u001b[0;32m      2\u001b[0m \u001b[38;5;66;03m# 학생 정보를 관리하는 Student 클래스를 작성하세요.\u001b[39;00m\n\u001b[0;32m      3\u001b[0m \u001b[38;5;66;03m# 이 클래스는 학생의 이름, 나이, 성적 리스트를 속성으로 가집니다.\u001b[39;00m\n\u001b[0;32m      4\u001b[0m \u001b[38;5;66;03m# pandas DataFrame을 사용하여 학생 정보를 관리하고, 성적 평균을 계산하는 메서드를 구현하세요.\u001b[39;00m\n\u001b[1;32m----> 6\u001b[0m \u001b[38;5;28;01mimport\u001b[39;00m \u001b[38;5;21;01mpandas\u001b[39;00m \u001b[38;5;28;01mas\u001b[39;00m \u001b[38;5;21;01mpd\u001b[39;00m\n\u001b[0;32m      9\u001b[0m \u001b[38;5;28;01mclass\u001b[39;00m \u001b[38;5;21;01mStudent\u001b[39;00m:\n\u001b[0;32m     10\u001b[0m     \u001b[38;5;28;01mdef\u001b[39;00m \u001b[38;5;21m__init__\u001b[39m(\u001b[38;5;28mself\u001b[39m, name, age, scores):\n",
      "\u001b[1;31mModuleNotFoundError\u001b[0m: No module named 'pandas'"
     ]
    }
   ],
   "source": [
    "# 문제1) 학생 클래스 만들기\n",
    "# 학생 정보를 관리하는 Student 클래스를 작성하세요.\n",
    "# 이 클래스는 학생의 이름, 나이, 성적 리스트를 속성으로 가집니다.\n",
    "# pandas DataFrame을 사용하여 학생 정보를 관리하고, 성적 평균을 계산하는 메서드를 구현하세요.\n",
    "\n",
    "import pandas as pd\n",
    "\n",
    "\n",
    "class Student:\n",
    "    def __init__(self, name, age, scores):\n",
    "        self.name = name\n",
    "        self.age = age\n",
    "        self.scores = scores\n",
    "        self.df = pd.DataFrame([{\"Name\": name, \"Age\": age, \"Scores\": scores}])\n",
    "\n",
    "    def calculate_average(self):\n",
    "        return sum(self.scores) / len(self.scores)\n",
    "\n",
    "    def display_info(self):\n",
    "        avg_score = self.calculate_average()\n",
    "        print(f\"이름: {self.name}\")\n",
    "        print(f\"나이: {self.age}\")\n",
    "        print(f\"점수: {self.scores}\")\n",
    "        print(f\"평균점수: {avg_score}\")\n",
    "        print(f\"\\n학생의 데이터:\\n{self.df}\")\n",
    "\n",
    "\n",
    "# 사용 예시\n",
    "student = Student(\"이현건\", 31, [100, 90, 95])\n",
    "student.display_info()"
   ]
  },
  {
   "cell_type": "code",
   "execution_count": 2,
   "metadata": {},
   "outputs": [
    {
     "name": "stdout",
     "output_type": "stream",
     "text": [
      "오늘의 로또 번호 !!! : [17, 21, 23, 27, 41, 43]\n",
      "오늘의 로또 번호 !!! : [13, 15, 17, 40, 43, 44]\n",
      "오늘의 로또 번호 !!! : [16, 19, 23, 37, 38, 43]\n",
      "오늘의 로또 번호 !!! : [6, 7, 12, 14, 28, 38]\n",
      "오늘의 로또 번호 !!! : [1, 2, 8, 13, 32, 44]\n",
      "오늘의 로또 번호 !!! : [1, 19, 23, 27, 35, 36]\n"
     ]
    }
   ],
   "source": [
    "# 문제2) 로또 번호 생성\n",
    "# 로또 번호를 랜덤하게 생성하는 프로그램을 작성하세요.\n",
    "# LottoGenerator 클래스를 작성하세요. 이 클래스는 1부터 45 사이의 중복되지 않는 6개의 숫자를 랜덤으로 생성합니다.\n",
    "# random.sample()을 사용하여 중복 없는 번호를 추출하세요.\n",
    "# 로또 번호를 출력하는 메서드를 만듭니다. 번호는 오름차순으로 정렬해서 출력하세요.\n",
    "# 주어진 횟수만큼 로또 번호를 추첨해보는 기능을 만듭니다. 각 추첨은 1초 간격으로 진행되어야 합니다.\n",
    "\n",
    "import random\n",
    "import time\n",
    "\n",
    "\n",
    "class LottoGenerator:\n",
    "    def __init__(self):\n",
    "        self.numbers = []\n",
    "\n",
    "    def generate_lotto_numbers(self):\n",
    "        self.numbers = random.sample(range(1, 46), 6)\n",
    "        self.numbers.sort()\n",
    "        print(f\"오늘의 로또 번호 !!! : {self.numbers}\")\n",
    "\n",
    "    def simulate_lotto_draws(self, n):\n",
    "        for _ in range(n):\n",
    "            self.generate_lotto_numbers()\n",
    "            time.sleep(1)  # 1초 간격으로 출력\n",
    "\n",
    "    def display_lotto_result(self):\n",
    "        print(f\"이번 주 로또 번호: {self.numbers}\")\n",
    "\n",
    "\n",
    "# 사용 예시\n",
    "lotto = LottoGenerator()\n",
    "lotto.simulate_lotto_draws(6)"
   ]
  }
 ],
 "metadata": {
  "kernelspec": {
   "display_name": ".venv",
   "language": "python",
   "name": "python3"
  },
  "language_info": {
   "codemirror_mode": {
    "name": "ipython",
    "version": 3
   },
   "file_extension": ".py",
   "mimetype": "text/x-python",
   "name": "python",
   "nbconvert_exporter": "python",
   "pygments_lexer": "ipython3",
   "version": "3.10.6"
  }
 },
 "nbformat": 4,
 "nbformat_minor": 2
}
