{
 "cells": [
  {
   "cell_type": "code",
   "execution_count": 9,
   "metadata": {},
   "outputs": [],
   "source": [
    "# 문제 2: for문\n",
    "# 문제:\n",
    "# 1부터 100까지의 수 중에서 3의 배수만 출력하는 프로그램을 작성하세요.\n",
    "\n"
   ]
  },
  {
   "cell_type": "code",
   "execution_count": 10,
   "metadata": {},
   "outputs": [],
   "source": [
    "# 문제 1: if문\n",
    "# 문제:\n",
    "# 사용자로부터 나이를 입력받고, 해당 나이가 18세 이상이면 \"성인입니다.\"를 출력하고, 18세 미만이면 \"미성년자입니다.\"를 출력하는 프로그램을 작성하세요."
   ]
  },
  {
   "cell_type": "code",
   "execution_count": 11,
   "metadata": {},
   "outputs": [],
   "source": [
    "# 문제 3: while문\n",
    "# 문제:\n",
    "# 사용자에게 숫자를 입력받고, 그 숫자가 0이 될 때까지 계속해서 숫자를 입력받아야 합니다. 숫자가 0이면 \"입력이 종료되었습니다.\"를 출력하고 종료되는 프로그램을 작성하세요."
   ]
  },
  {
   "cell_type": "code",
   "execution_count": 12,
   "metadata": {},
   "outputs": [],
   "source": [
    "# 문제 4: 2중 for문\n",
    "# 문제:\n",
    "# 2차원 배열(리스트)로 주어진 데이터를 행(row)과 열(column)별로 출력하는 프로그램을 작성하세요. 예를 들어, 주어진 리스트가 [[1, 2, 3], [4, 5, 6], [7, 8, 9]]일 경우, 각 행을 출력하는 프로그램을 작성하세요."
   ]
  },
  {
   "cell_type": "code",
   "execution_count": 13,
   "metadata": {},
   "outputs": [],
   "source": [
    "# 문제 5: for문과 if문 결합\n",
    "# 문제:\n",
    "# 1부터 50까지의 숫자 중에서 짝수인 숫자만 출력하는 프로그램을 작성하세요. 단, 10의 배수는 제외해야 합니다."
   ]
  }
 ],
 "metadata": {
  "kernelspec": {
   "display_name": ".venv",
   "language": "python",
   "name": "python3"
  },
  "language_info": {
   "codemirror_mode": {
    "name": "ipython",
    "version": 3
   },
   "file_extension": ".py",
   "mimetype": "text/x-python",
   "name": "python",
   "nbconvert_exporter": "python",
   "pygments_lexer": "ipython3",
   "version": "3.12.8"
  }
 },
 "nbformat": 4,
 "nbformat_minor": 2
}
